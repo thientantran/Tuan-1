{
 "cells": [
  {
   "cell_type": "markdown",
   "metadata": {},
   "source": [
    "## EXERCISE 1: SO CHAN HAY SO LE"
   ]
  },
  {
   "cell_type": "code",
   "execution_count": 1,
   "metadata": {},
   "outputs": [
    {
     "name": "stdout",
     "output_type": "stream",
     "text": [
      "Nhap so vao day:6\n",
      "[1] \"6 la so chan\"\n"
     ]
    }
   ],
   "source": [
    "a=as.integer(readline(prompt=\"Nhap so vao day:\"))\n",
    "if(a%%2==0){\n",
    "    print(paste(a,\"la so chan\"))\n",
    "}else{\n",
    "    print(paste(a,\"la so le\"))\n",
    "}"
   ]
  },
  {
   "cell_type": "markdown",
   "metadata": {},
   "source": [
    "## EXERCISE 2: TINH TIEN DIEN"
   ]
  },
  {
   "cell_type": "code",
   "execution_count": 2,
   "metadata": {},
   "outputs": [
    {
     "name": "stdout",
     "output_type": "stream",
     "text": [
      "Nhap so Kwh tieu thu:200\n",
      "[1] \"Tong tien dien la: 372.000,00 VND\"\n"
     ]
    }
   ],
   "source": [
    "kWh=as.numeric(readline(prompt=\"Nhap so Kwh tieu thu:\"))\n",
    "donGia1=1678\n",
    "donGia2=1734\n",
    "donGia3=2014\n",
    "donGia4=2536\n",
    "donGia5=2834\n",
    "donGia6=2927\n",
    "if(kWh<=50){\n",
    "    tienThanhToan=donGia1*kWh\n",
    "}else if(kWh<=100){\n",
    "    tienThanhToan=donGia1*50+donGia2*(kWh-50)\n",
    "}else if(kWh<=200){\n",
    "    tienThanhToan=donGia1*50+donGia2*50+donGia3*(kWh-100)\n",
    "}else if(kWh<=300){\n",
    "    tienThanhToan=donGia1*50+donGia2*50+donGia3*100+donGia4*(kWh-200)\n",
    "}else if(kWh<=400){\n",
    "    tienThanhToan=donGia1*50+donGia2*50+donGia3*100+donGia4*100+donGia5(kWh-300)\n",
    "}else{\n",
    "    tienThanhToan=donGia1*50+donGia2*50+donGia3*100+donGia4*100+donGia5*100+donGia6*(kWh-400)\n",
    "}\n",
    "print(paste(\"Tong tien dien la:\",format(tienThanhToan,big.mark='.',decimal.mark=',',nsmall=2),\"VND\"))"
   ]
  },
  {
   "cell_type": "markdown",
   "metadata": {},
   "source": [
    "## EXERCISE 3: TINH TIEN THUE PHONG KHACH SAN"
   ]
  },
  {
   "cell_type": "code",
   "execution_count": 3,
   "metadata": {},
   "outputs": [
    {
     "name": "stdout",
     "output_type": "stream",
     "text": [
      "1-VIP1\n",
      "2-VIP2\n",
      "3-VIP3\n",
      "4-Standard 1\n",
      "5-Standard-2\n",
      "Nhap loai phong:6\n",
      "Nhap so ngay o:3\n",
      "[1] \"Tong tien thanh toan la:  VND\"\n"
     ]
    }
   ],
   "source": [
    "loaiPhong=as.integer(readline(prompt=\"1-VIP1\\n2-VIP2\\n3-VIP3\\n4-Standard 1\\n5-Standard-2\\nNhap loai phong:\"))\n",
    "soNgayO=as.integer(readline(prompt=\"Nhap so ngay o:\"))\n",
    "v1=1000000\n",
    "v2=900000\n",
    "v3=850000\n",
    "s1=700000\n",
    "s2=550000\n",
    "donGia=switch(loaiPhong,v1,v2,v3,s1,s2)\n",
    "tien=0;\n",
    "if(soNgayO<3){\n",
    "    tien=soNgayO*donGia\n",
    "}else if(soNgayO<7){\n",
    "    tien=soNgayO*donGia*0.9\n",
    "}else{\n",
    "    tien=soNgayO*donGia*0.8\n",
    "}\n",
    "print(paste(\"Tong tien thanh toan la:\",format(tien,big.mark='.',decimal.mark=',',nsmall=1),\"VND\"))"
   ]
  },
  {
   "cell_type": "markdown",
   "metadata": {},
   "source": [
    "## EXERCISE 4: TRO CHOI ONE-TWO-TREE"
   ]
  },
  {
   "cell_type": "code",
   "execution_count": 4,
   "metadata": {},
   "outputs": [
    {
     "name": "stdout",
     "output_type": "stream",
     "text": [
      "Nguoi A nhap vao day (scissors/rock/paper):paper\n",
      "Nguoi B nhap vao day (scissors/rock/paper):rock\n"
     ]
    },
    {
     "name": "stderr",
     "output_type": "stream",
     "text": [
      "NGUOI A CHON: paper NGUOI B CHON: rock\n",
      "Nguoi A Thang Nguoi B\n"
     ]
    },
    {
     "name": "stdout",
     "output_type": "stream",
     "text": [
      "Ban co muon choi tiep ko Y/N?:y\n",
      "Nguoi A nhap vao day (scissors/rock/paper):rock\n",
      "Nguoi B nhap vao day (scissors/rock/paper):rock\n"
     ]
    },
    {
     "name": "stderr",
     "output_type": "stream",
     "text": [
      "NGUOI A CHON: rock NGUOI B CHON: rock\n",
      "Nguoi A Hoa Nguoi B\n"
     ]
    },
    {
     "name": "stdout",
     "output_type": "stream",
     "text": [
      "Ban co muon choi tiep ko Y/N?:n\n"
     ]
    }
   ],
   "source": [
    "T='Y'\n",
    "while(T==\"Y\"){\n",
    "    a=readline(prompt=\"Nguoi A nhap vao day (scissors/rock/paper):\")\n",
    "    b=readline(prompt=\"Nguoi B nhap vao day (scissors/rock/paper):\")\n",
    "    kq='Hoa'\n",
    "    if(a!=b){\n",
    "        if(a=='scissors'){\n",
    "           if(b=='paper'){\n",
    "               kq='Thang'\n",
    "           }else{\n",
    "               kq='Thua'\n",
    "           } \n",
    "        }else if(a=='rock'){\n",
    "            if(b=='scissors'){\n",
    "                kq='Thang'\n",
    "            }else{\n",
    "                kq='Thua'\n",
    "            }\n",
    "        }else{\n",
    "            if(b=='rock'){\n",
    "                kq='Thang'\n",
    "            }else{\n",
    "                kq='Thua'\n",
    "            }\n",
    "        }\n",
    "    }\n",
    "    message(paste('NGUOI A CHON:',a,'NGUOI B CHON:',b))\n",
    "    message(paste('Nguoi A',kq,'Nguoi B'))\n",
    "    T=readline(prompt=\"Ban co muon choi tiep ko Y/N?:\")\n",
    "    T=toupper(T)\n",
    "}\n"
   ]
  },
  {
   "cell_type": "markdown",
   "metadata": {},
   "source": [
    "## EXERCISE 5: TINH CUOC GOBIKE, GOSEND"
   ]
  },
  {
   "cell_type": "code",
   "execution_count": 5,
   "metadata": {},
   "outputs": [
    {
     "name": "stdout",
     "output_type": "stream",
     "text": [
      "1-GOBIKE\n",
      "2-GOSEND\n",
      "Nhap loai dich vu su dung:1\n",
      "Nhap so Km da di:20\n",
      "[1] \"So tien thanh toan la: 74.800,0 VND\"\n"
     ]
    }
   ],
   "source": [
    "dichVu=as.integer(readline(prompt=\"1-GOBIKE\\n2-GOSEND\\nNhap loai dich vu su dung:\"))\n",
    "soKM=as.numeric(readline(prompt=\"Nhap so Km da di:\"))\n",
    "giaCuoc1=c(10000,3600)\n",
    "giaCuoc2=c(15000,4000)\n",
    "giaCuoc=switch(dichVu,giaCuoc1,giaCuoc2)\n",
    "tienThanhToan=giaCuoc[1]\n",
    "if(soKM>2){\n",
    "    tienThanhToan=giaCuoc[1]+giaCuoc[2]*(soKM-2)\n",
    "}\n",
    "print(paste(\"So tien thanh toan la:\",format(tienThanhToan,big.mark='.',decimal.mark=',',nsmall=1),\"VND\"))"
   ]
  },
  {
   "cell_type": "code",
   "execution_count": null,
   "metadata": {},
   "outputs": [],
   "source": []
  }
 ],
 "metadata": {
  "kernelspec": {
   "display_name": "R",
   "language": "R",
   "name": "ir"
  },
  "language_info": {
   "codemirror_mode": "r",
   "file_extension": ".r",
   "mimetype": "text/x-r-source",
   "name": "R",
   "pygments_lexer": "r",
   "version": "3.6.1"
  }
 },
 "nbformat": 4,
 "nbformat_minor": 4
}
