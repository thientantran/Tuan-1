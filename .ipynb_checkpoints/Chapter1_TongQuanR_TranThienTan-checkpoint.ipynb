{
 "cells": [
  {
   "cell_type": "markdown",
   "metadata": {},
   "source": [
    "## EXERCISE 1: Viet chuong chinh tinh tong, hieu, tich, thuong cua 2 so a va b"
   ]
  },
  {
   "cell_type": "code",
   "execution_count": 2,
   "metadata": {},
   "outputs": [
    {
     "name": "stdout",
     "output_type": "stream",
     "text": [
      "Nhap so A:5\n",
      "Nhap so B:7\n",
      "[1] \"Tong la: 12\"\n",
      "[1] \"Hieu la: -2\"\n",
      "[1] \"Tich la: 35\"\n",
      "[1] \"Thuong la: 0.71\"\n"
     ]
    }
   ],
   "source": [
    "a=as.numeric(readline(prompt=\"Nhap so A:\"))\n",
    "b=as.numeric(readline(prompt=\"Nhap so B:\"))\n",
    "tong=a+b\n",
    "hieu=a-b\n",
    "tich=a*b\n",
    "thuong=a/b\n",
    "print(paste(\"Tong la:\",tong))\n",
    "print(paste(\"Hieu la:\",hieu))\n",
    "print(paste(\"Tich la:\",tich))\n",
    "print(paste(\"Thuong la:\",round(thuong,2)))"
   ]
  },
  {
   "cell_type": "code",
   "execution_count": null,
   "metadata": {},
   "outputs": [],
   "source": []
  }
 ],
 "metadata": {
  "kernelspec": {
   "display_name": "R",
   "language": "R",
   "name": "ir"
  },
  "language_info": {
   "codemirror_mode": "r",
   "file_extension": ".r",
   "mimetype": "text/x-r-source",
   "name": "R",
   "pygments_lexer": "r",
   "version": "3.6.1"
  }
 },
 "nbformat": 4,
 "nbformat_minor": 4
}
