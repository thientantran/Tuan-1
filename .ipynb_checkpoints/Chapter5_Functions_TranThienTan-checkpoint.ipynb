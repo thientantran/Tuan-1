{
 "cells": [
  {
   "cell_type": "markdown",
   "metadata": {},
   "source": [
    "## EXERCISE 1: TINH BMI VA DANH GIA"
   ]
  },
  {
   "cell_type": "code",
   "execution_count": 1,
   "metadata": {},
   "outputs": [],
   "source": [
    "BMI.function=function(canNang,chieuCao){\n",
    "    kq=canNang/(chieuCao*chieuCao)\n",
    "    return(kq)\n",
    "}\n",
    "danhGia.function=function(BMI){\n",
    "    if(BMI<18.5){\n",
    "        danhGia='Gay'\n",
    "    }else if(BMI<25){\n",
    "        danhGia='Binh Thuong'\n",
    "    }else{\n",
    "        danhGia='Thua can'\n",
    "    }\n",
    "}"
   ]
  },
  {
   "cell_type": "code",
   "execution_count": 2,
   "metadata": {},
   "outputs": [
    {
     "name": "stdout",
     "output_type": "stream",
     "text": [
      "Nhap chieu cao cua ban (m):1.7\n",
      "Nhap cang nang cua ban (kg):60\n",
      "[1] \"BMI la: 20.76\"\n",
      "[1] \"Danh gia la: Binh Thuong\"\n"
     ]
    }
   ],
   "source": [
    "height=as.numeric(readline(prompt=\"Nhap chieu cao cua ban (m):\"))\n",
    "weight=as.numeric(readline(prompt=\"Nhap cang nang cua ban (kg):\"))\n",
    "BMI=BMI.function(weight,height)\n",
    "danhGia=danhGia.function(BMI)\n",
    "print(paste(\"BMI la:\",round(BMI,2)))\n",
    "print(paste(\"Danh gia la:\",danhGia))"
   ]
  },
  {
   "cell_type": "markdown",
   "metadata": {},
   "source": [
    "## EXERCISE 2: GIAI PHUONG TRINH BAC1, BAC 2"
   ]
  },
  {
   "cell_type": "code",
   "execution_count": 3,
   "metadata": {},
   "outputs": [],
   "source": [
    "ptBac1.function=function(a,b){\n",
    "    kq=-b/a\n",
    "    if(a==0){\n",
    "        if(b==0){\n",
    "            kq=\"vo so nghiem!\"\n",
    "        }else{\n",
    "            kq='vo nghiem'\n",
    "        }\n",
    "    }\n",
    "    return(kq)\n",
    "}"
   ]
  },
  {
   "cell_type": "code",
   "execution_count": 4,
   "metadata": {},
   "outputs": [
    {
     "name": "stdout",
     "output_type": "stream",
     "text": [
      "Nhap so a:5\n",
      "Nhap so b:7\n",
      "[1] \"Phuong trinh co nghiem la: -1.4\"\n"
     ]
    }
   ],
   "source": [
    "a=as.numeric(readline(prompt=\"Nhap so a:\"))\n",
    "b=as.numeric(readline(prompt=\"Nhap so b:\"))\n",
    "pt1=ptBac1.function(a,b)\n",
    "print(paste(\"Phuong trinh co nghiem la:\",pt1))"
   ]
  },
  {
   "cell_type": "code",
   "execution_count": 5,
   "metadata": {},
   "outputs": [],
   "source": [
    "ptBac2.function=function(a,b,c){\n",
    "    kq=0\n",
    "    if(a==0){\n",
    "        kq=ptBac1.function(b,c)\n",
    "    }else{\n",
    "        delta=b*b-4*a*c\n",
    "        if(delta<0){\n",
    "            kq=\"Vo nghiem\"\n",
    "        }else if(delta==0){\n",
    "            kq=-b/(2*a)\n",
    "        }else{\n",
    "            kq=c((-b+sqrt(delta))/(2*a),(-b-sqrt(delta))/(2*a))\n",
    "        }\n",
    "    }\n",
    "    return(kq)\n",
    "}"
   ]
  },
  {
   "cell_type": "code",
   "execution_count": 6,
   "metadata": {},
   "outputs": [
    {
     "name": "stdout",
     "output_type": "stream",
     "text": [
      "Nhap so a:-3\n",
      "Nhap so b:2\n",
      "Nhap so c:4\n",
      "[1] \"Nghiem phuong trinh la: -0.86851709182133, 1.535183758488\"\n"
     ]
    }
   ],
   "source": [
    "a=as.numeric(readline(prompt=\"Nhap so a:\"))\n",
    "b=as.numeric(readline(prompt=\"Nhap so b:\"))\n",
    "c=as.numeric(readline(prompt=\"Nhap so c:\"))\n",
    "pt2=ptBac2.function(a,b,c)\n",
    "print(paste(\"Nghiem phuong trinh la:\",toString(pt2)))"
   ]
  },
  {
   "cell_type": "markdown",
   "metadata": {},
   "source": [
    "## EXERCISE 5: XAY DUNG FUNCTION"
   ]
  },
  {
   "cell_type": "code",
   "execution_count": 7,
   "metadata": {},
   "outputs": [
    {
     "name": "stdout",
     "output_type": "stream",
     "text": [
      "Nhap so Kwh dien:200\n",
      "[1] \"Tien dien thanh toan cho 200 la: 372.000,0 VND\"\n"
     ]
    }
   ],
   "source": [
    "source('function.R')\n",
    "#Dung FUNCTION TINH TIEN DIEN\n",
    "soKwh=as.numeric(readline(prompt=\"Nhap so Kwh dien:\"))\n",
    "tienDien=tienDien.function(soKwh)\n",
    "print(paste(\"Tien dien thanh toan cho\",soKwh,\"la:\",format(tienDien,big.mark='.',decimal.mark=',',nsmall=1),'VND'))"
   ]
  },
  {
   "cell_type": "code",
   "execution_count": 8,
   "metadata": {},
   "outputs": [
    {
     "name": "stdout",
     "output_type": "stream",
     "text": [
      "1-VIP1\n",
      "2-VIP2\n",
      "3-VIP3\n",
      "4-Standard 1\n",
      "5-Standard-2\n",
      "Nhap loai phong:3\n",
      "Nhap so ngay o:6\n",
      "[1] \"Tien Phong thanh toan la: 4.590.000,0 VND\"\n"
     ]
    }
   ],
   "source": [
    "#Dung FUNCTION TINH TIEN THUE PHONG KHAC SAN\n",
    "loaiPhong=as.integer(readline(prompt=\"1-VIP1\\n2-VIP2\\n3-VIP3\\n4-Standard 1\\n5-Standard-2\\nNhap loai phong:\"))\n",
    "soNgayO=as.integer(readline(prompt=\"Nhap so ngay o:\"))\n",
    "tienPhong=thuePhong.function(loaiPhong,soNgayO)\n",
    "print(paste(\"Tien Phong thanh toan la:\",format(tienPhong,big.mark='.',decimal.mark=',',nsmall=1),'VND'))"
   ]
  },
  {
   "cell_type": "code",
   "execution_count": 9,
   "metadata": {},
   "outputs": [
    {
     "name": "stdout",
     "output_type": "stream",
     "text": [
      "1-GOBIKE\n",
      "2-GOSEND\n",
      "Nhap loai dich vu su dung:2\n",
      "Nhap so Km da di:20\n",
      "[1] \"Tong tien thanh toan la: 87.000,0 VND\"\n"
     ]
    }
   ],
   "source": [
    "#Dung FUNCTION tinh cuoc GOBIKE GOSEND\n",
    "dichVu=as.integer(readline(prompt=\"1-GOBIKE\\n2-GOSEND\\nNhap loai dich vu su dung:\"))\n",
    "soKM=as.numeric(readline(prompt=\"Nhap so Km da di:\"))\n",
    "tienXe=thueXe.function(dichVu,soKM)\n",
    "print(paste(\"Tong tien thanh toan la:\",format(tienXe,big.mark='.',decimal.mark=',',nsmall=1),'VND'))"
   ]
  },
  {
   "cell_type": "code",
   "execution_count": 10,
   "metadata": {},
   "outputs": [],
   "source": [
    "#Dung FUNCTION so nguyen to\n"
   ]
  }
 ],
 "metadata": {
  "kernelspec": {
   "display_name": "R",
   "language": "R",
   "name": "ir"
  },
  "language_info": {
   "codemirror_mode": "r",
   "file_extension": ".r",
   "mimetype": "text/x-r-source",
   "name": "R",
   "pygments_lexer": "r",
   "version": "3.6.1"
  }
 },
 "nbformat": 4,
 "nbformat_minor": 4
}
