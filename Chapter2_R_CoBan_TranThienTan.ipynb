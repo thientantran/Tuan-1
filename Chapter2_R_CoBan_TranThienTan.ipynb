{
 "cells": [
  {
   "cell_type": "markdown",
   "metadata": {},
   "source": [
    "## Exercise 1: THONG TIN CA NHAN"
   ]
  },
  {
   "cell_type": "code",
   "execution_count": 1,
   "metadata": {},
   "outputs": [
    {
     "name": "stdout",
     "output_type": "stream",
     "text": [
      "Nhap ten vao day:Thien Tan\n",
      "Nhap nam sinh vao day (2020):1994\n",
      "Nhap can nang vao day (kg):60\n",
      "Nhap chieu cao vao day (m):1.7\n",
      "[1] \"Name: Thien Tan\"\n",
      "[1] \"Year of birth: 1994\"\n",
      "[1] \"Height: 1.7\"\n",
      "[1] \"Weight: 60\"\n",
      "[1] \"BMI: 20.76\"\n"
     ]
    }
   ],
   "source": [
    "ten=readline(prompt=\"Nhap ten vao day:\")\n",
    "namSinh=as.integer(readline(prompt=\"Nhap nam sinh vao day (2020):\"))\n",
    "canNang=as.numeric(readline(prompt=\"Nhap can nang vao day (kg):\"))\n",
    "chieuCao=as.numeric(readline(prompt=\"Nhap chieu cao vao day (m):\"))\n",
    "BMI=canNang/(chieuCao*chieuCao)\n",
    "print(paste(\"Name:\",ten))\n",
    "print(paste(\"Year of birth:\",namSinh))\n",
    "print(paste(\"Height:\",chieuCao))\n",
    "print(paste(\"Weight:\",canNang))\n",
    "print(paste(\"BMI:\",round(BMI,2)))"
   ]
  },
  {
   "cell_type": "markdown",
   "metadata": {},
   "source": [
    "## EXERCISE 2: TINH TIEN HOA DON AN UONG"
   ]
  },
  {
   "cell_type": "code",
   "execution_count": 2,
   "metadata": {},
   "outputs": [
    {
     "name": "stdout",
     "output_type": "stream",
     "text": [
      "Nhap tien cac mon an vao nuoc uong (VND):500000\n",
      "Nhap thue vao day (10-20%):10\n",
      "Nhap tip vao day (5-10%):5\n",
      "[1] \"Tien cac mon an thuoc uong la: 5e+05 VND\"\n",
      "[1] \"Tien thue: 50.000,00 VND\"\n",
      "[1] \"Tien tip: 25.000,00 VND\"\n",
      "[1] \"Tong tien phai tra la: 575.000,00 VND\"\n"
     ]
    }
   ],
   "source": [
    "tien=as.numeric(readline(prompt=\"Nhap tien cac mon an vao nuoc uong (VND):\"))\n",
    "thue=as.numeric(readline(prompt=\"Nhap thue vao day (10-20%):\"))\n",
    "thue=thue/100\n",
    "tip=as.numeric(readline(prompt=\"Nhap tip vao day (5-10%):\"))\n",
    "tip=tip/100\n",
    "tienPhaiTra=tien+tien*thue+tien*tip\n",
    "print(paste(\"Tien cac mon an thuoc uong la:\",format(tien,big.mark='.',decimal.mark=\",\",nsmall=2),\"VND\"))\n",
    "print(paste(\"Tien thue:\",format(thue*tien,big.mark='.',decimal.mark=\",\",nsmall=2),'VND'))\n",
    "print(paste(\"Tien tip:\",format(tip*tien,big.mark='.',decimal.mark=\",\",nsmall=2),'VND'))\n",
    "print(paste(\"Tong tien phai tra la:\",format(tienPhaiTra,big.mark='.',decimal.mark=\",\",nsmall=2),\"VND\"))"
   ]
  },
  {
   "cell_type": "markdown",
   "metadata": {},
   "source": [
    "## EXERCISE 3: TINH TIEN LAI GUI TIET KIEM"
   ]
  },
  {
   "cell_type": "code",
   "execution_count": 3,
   "metadata": {},
   "outputs": [
    {
     "name": "stdout",
     "output_type": "stream",
     "text": [
      "Nhap so tien gui vao day (VND):1000000\n",
      "Nhap lai suat vao day (%):7\n",
      "Nhap so ngay gui vao day (ngay):365\n",
      "[1] \"Tien gui la: 1e+06 VND\"\n",
      "[1] \"Tien lai la: 70.000,00 VND\"\n",
      "[1] \"Tong tien la: 1.070.000,00 VND\"\n"
     ]
    }
   ],
   "source": [
    "tienGui=as.numeric(readline(\"Nhap so tien gui vao day (VND):\"))\n",
    "laiSuat=as.numeric(readline(\"Nhap lai suat vao day (%):\"))\n",
    "laiNgay=laiSuat/(100*365)\n",
    "soNgayGui=as.integer(readline(\"Nhap so ngay gui vao day (ngay):\"))\n",
    "tienLai=tienGui*laiNgay*soNgayGui\n",
    "print(paste(\"Tien gui la:\",format(tienGui,big.mark='.',decimal.mark=\",\",nsmall=2),\"VND\"))\n",
    "print(paste(\"Tien lai la:\",format(tienLai,big.mark='.',decimal.mark=\",\",nsmall=2),\"VND\"))\n",
    "print(paste(\"Tong tien la:\",format(tienLai+tienGui,big.mark='.',decimal.mark=\",\",nsmall=2),\"VND\"))"
   ]
  },
  {
   "cell_type": "markdown",
   "metadata": {},
   "source": [
    "## EXERCISE 4: TINH BAN KINH VA CHU VI HINH TRON"
   ]
  },
  {
   "cell_type": "code",
   "execution_count": 4,
   "metadata": {},
   "outputs": [
    {
     "name": "stdout",
     "output_type": "stream",
     "text": [
      "Nhap dien tich hinh tron vao day:10\n",
      "[1] \"Ban kinh hinh tron la: 1.78\"\n",
      "[1] \"Chu vi hinh tron la: 11.21\"\n"
     ]
    }
   ],
   "source": [
    "s=as.numeric(readline(prompt=\"Nhap dien tich hinh tron vao day:\"))\n",
    "pi=3.14\n",
    "r=sqrt(s/pi)\n",
    "chuVi=2*pi*r\n",
    "print(paste(\"Ban kinh hinh tron la:\",round(r,2)))\n",
    "print(paste(\"Chu vi hinh tron la:\",round(chuVi,2)))"
   ]
  },
  {
   "cell_type": "markdown",
   "metadata": {},
   "source": [
    "## EXERCISE 5: LAM VIEC VOI CHUOI"
   ]
  },
  {
   "cell_type": "code",
   "execution_count": 5,
   "metadata": {},
   "outputs": [
    {
     "name": "stdout",
     "output_type": "stream",
     "text": [
      "Nhap chuoi 1:This is R programming language\n",
      "Nhap chuoi 2:for Date Science\n",
      "Nhap chuoi 3:and Machine Learning\n",
      "Nhap vi tri cat chuoi vao day:10\n",
      "Nhap chuoi tim kiem vao day:language\n",
      "Nhap chuoi thay the vao day:LANGUAGE\n",
      "[1] \"Chieu dai chuoi 1 la: 30\"\n",
      "[1] \"Chieu dai chuoi 2 la: 16\"\n",
      "[1] \"Chieu dai chuoi 3 la: 20\"\n",
      "[1] \"Chuoi 4:  programming language\"\n",
      "[1] \"Chuoi 5: This is R \"\n",
      "[1] \"Chuoi Tim Kiem: language\"\n",
      "[1] \"Chuoi Thay The: LANGUAGE\"\n",
      "[1] \"Chuoi new: This is R programming LANGUAGE\"\n"
     ]
    }
   ],
   "source": [
    "str1=readline(\"Nhap chuoi 1:\")\n",
    "str2=readline(\"Nhap chuoi 2:\")\n",
    "str3=readline(\"Nhap chuoi 3:\")\n",
    "index=as.integer(readline(prompt=\"Nhap vi tri cat chuoi vao day:\"))\n",
    "str_timKiem=readline(\"Nhap chuoi tim kiem vao day:\")\n",
    "str_thayThe=readline(\"Nhap chuoi thay the vao day:\")\n",
    "print(paste(\"Chieu dai chuoi 1 la:\",nchar(str1)))\n",
    "print(paste(\"Chieu dai chuoi 2 la:\",nchar(str2)))\n",
    "print(paste(\"Chieu dai chuoi 3 la:\",nchar(str3)))\n",
    "str4=substring(str1,index)\n",
    "str5=substring(str1,1,index)\n",
    "str_new=sub(str_timKiem,str_thayThe,str1)\n",
    "print(paste(\"Chuoi 4:\",str4))\n",
    "print(paste(\"Chuoi 5:\",str5))\n",
    "print(paste(\"Chuoi Tim Kiem:\",str_timKiem))\n",
    "print(paste(\"Chuoi Thay The:\",str_thayThe))\n",
    "print(paste(\"Chuoi new:\",str_new))\n"
   ]
  },
  {
   "cell_type": "markdown",
   "metadata": {},
   "source": [
    "## EXERCISE 6: KHOANG CACH GIUA 2 NGAY"
   ]
  },
  {
   "cell_type": "code",
   "execution_count": 6,
   "metadata": {},
   "outputs": [
    {
     "name": "stdout",
     "output_type": "stream",
     "text": [
      "Nhap ngay vao day (dd-mm-YYYY):1-4-1994\n",
      "[1] \"Ngay 01/04/1994 Cach ngay hom nay la 9494 ngay, tuong ung 1356 Tuan\"\n"
     ]
    }
   ],
   "source": [
    "ngayNhap=as.Date(readline(prompt=\"Nhap ngay vao day (dd-mm-YYYY):\"),format(\"%d-%m-%Y\"))\n",
    "if(is.na(ngayNhap)){\n",
    "    print(\"Ngay Nhap ko hop  le:\")\n",
    "}else{\n",
    "    ngayHienTai=Sys.Date()\n",
    "    khoangCachNgay=abs(ngayHienTai-ngayNhap)\n",
    "    khoangCachTuan=abs(difftime(ngayHienTai,ngayNhap,units='weeks'))\n",
    "    print(paste(\"Ngay\",format(ngayNhap,\"%d/%m/%Y\"),\"Cach ngay hom nay la\",khoangCachNgay,\"ngay, tuong ung\",\n",
    "                round(khoangCachTuan,0),\"Tuan\" ))\n",
    "}\n"
   ]
  },
  {
   "cell_type": "markdown",
   "metadata": {},
   "source": [
    "## EXERCISE 7: BAY NGAY TIEP THEO"
   ]
  },
  {
   "cell_type": "code",
   "execution_count": 7,
   "metadata": {},
   "outputs": [
    {
     "name": "stdout",
     "output_type": "stream",
     "text": [
      "Nhap ngay vao day (dd-mm-YYYY):9-9-2020\n",
      "[1] \"Ngay nhap 09/09/2020 la ngay Wednesday\"\n",
      "[1] \"7 ngay tiep theo: 10/09/2020, 11/09/2020, 12/09/2020, 13/09/2020, 14/09/2020, 15/09/2020, 16/09/2020\"\n"
     ]
    }
   ],
   "source": [
    "ngayNhap=as.Date(readline(prompt=\"Nhap ngay vao day (dd-mm-YYYY):\"),format(\"%d-%m-%Y\"))\n",
    "if(is.na(ngayNhap)){\n",
    "    print(\"Ngay Nhap ko hop  le:\")\n",
    "}else{\n",
    "    print(paste(\"Ngay nhap\",format(ngayNhap,\"%d/%m/%Y\"),\"la ngay\",weekdays.Date(ngayNhap)))\n",
    "    bayNgay=seq(ngayNhap+1,length=7,by=1)\n",
    "    print(paste(\"7 ngay tiep theo:\",toString(format(bayNgay,\"%d/%m/%Y\"))))\n",
    "}"
   ]
  },
  {
   "cell_type": "code",
   "execution_count": null,
   "metadata": {},
   "outputs": [],
   "source": []
  }
 ],
 "metadata": {
  "kernelspec": {
   "display_name": "R",
   "language": "R",
   "name": "ir"
  },
  "language_info": {
   "codemirror_mode": "r",
   "file_extension": ".r",
   "mimetype": "text/x-r-source",
   "name": "R",
   "pygments_lexer": "r",
   "version": "3.6.1"
  }
 },
 "nbformat": 4,
 "nbformat_minor": 4
}
