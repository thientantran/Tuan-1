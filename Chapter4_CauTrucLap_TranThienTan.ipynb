{
 "cells": [
  {
   "cell_type": "markdown",
   "metadata": {},
   "source": [
    "## EXERCISE 1: BAN MUON DUNG LAI HAY CHOI TIEP"
   ]
  },
  {
   "cell_type": "code",
   "execution_count": 1,
   "metadata": {},
   "outputs": [
    {
     "name": "stdout",
     "output_type": "stream",
     "text": [
      "Nhap 1 de continue! nhap khac 1 de dung lai:1\n",
      "Nhap 1 de continue! nhap khac 1 de dung lai:1\n",
      "Nhap 1 de continue! nhap khac 1 de dung lai:2\n"
     ]
    }
   ],
   "source": [
    "t=1\n",
    "while(t==1){\n",
    "    t=as.integer(readline(prompt=\"Nhap 1 de continue! nhap khac 1 de dung lai:\"))\n",
    "}"
   ]
  },
  {
   "cell_type": "markdown",
   "metadata": {},
   "source": [
    "## EXERCISE 2: BINH PHUONG VECTOR"
   ]
  },
  {
   "cell_type": "code",
   "execution_count": 2,
   "metadata": {},
   "outputs": [
    {
     "name": "stdout",
     "output_type": "stream",
     "text": [
      "Nhap so chu so vao day:10\n",
      "[1] \"Ket qua la: 49, 25, 49, 49, 25, 64, 16, 81, 1, 64\"\n",
      " [1] 49 25 49 49 25 64 16 81  1 64\n"
     ]
    }
   ],
   "source": [
    "n=as.integer(readline(prompt=\"Nhap so chu so vao day:\"))\n",
    "vector=round(runif(n,1,10),0)\n",
    "kq=c()\n",
    "for(i in vector){\n",
    "    kq=c(kq,i*i)\n",
    "}\n",
    "print(paste(\"Ket qua la:\",toString(kq)))\n",
    "print(kq)"
   ]
  },
  {
   "cell_type": "markdown",
   "metadata": {},
   "source": [
    "## EXERCISE 3: BANG CUU CHUONG"
   ]
  },
  {
   "cell_type": "code",
   "execution_count": 3,
   "metadata": {},
   "outputs": [
    {
     "name": "stdout",
     "output_type": "stream",
     "text": [
      "Nhap 1 so:5\n",
      "5 x 1 = 5 \n",
      "5 x 2 = 10 \n",
      "5 x 3 = 15 \n",
      "5 x 4 = 20 \n",
      "5 x 5 = 25 \n",
      "5 x 6 = 30 \n",
      "5 x 7 = 35 \n",
      "5 x 8 = 40 \n",
      "5 x 9 = 45 \n"
     ]
    }
   ],
   "source": [
    "n=as.integer(readline(prompt=\"Nhap 1 so:\"))\n",
    "for (i in c(1:9)){\n",
    "    cat(n,\"x\",i,\"=\",i*n,'\\n')\n",
    "}"
   ]
  },
  {
   "cell_type": "code",
   "execution_count": 4,
   "metadata": {},
   "outputs": [
    {
     "name": "stdout",
     "output_type": "stream",
     "text": [
      "Nhap 1 so bat dau:8\n",
      "Nhap 1 so ket thuc:9\n",
      "8 x 1 = 8 \t9 x 1 = 9 \t\n",
      "8 x 2 = 16 \t9 x 2 = 18 \t\n",
      "8 x 3 = 24 \t9 x 3 = 27 \t\n",
      "8 x 4 = 32 \t9 x 4 = 36 \t\n",
      "8 x 5 = 40 \t9 x 5 = 45 \t\n",
      "8 x 6 = 48 \t9 x 6 = 54 \t\n",
      "8 x 7 = 56 \t9 x 7 = 63 \t\n",
      "8 x 8 = 64 \t9 x 8 = 72 \t\n",
      "8 x 9 = 72 \t9 x 9 = 81 \t\n"
     ]
    }
   ],
   "source": [
    "soBatDau=as.integer(readline(prompt=\"Nhap 1 so bat dau:\"))\n",
    "soKetThuc=as.integer(readline(prompt=\"Nhap 1 so ket thuc:\"))\n",
    "for(i in c(1:9)){\n",
    "    for(j in c(soBatDau:soKetThuc)){\n",
    "        cat(j,'x',i,'=',i*j,'\\t')\n",
    "    }\n",
    "    cat(\"\\n\")\n",
    "}"
   ]
  },
  {
   "cell_type": "markdown",
   "metadata": {},
   "source": [
    "## EXERCISE 4: TINH GIA TRI"
   ]
  },
  {
   "cell_type": "code",
   "execution_count": 5,
   "metadata": {},
   "outputs": [
    {
     "name": "stdout",
     "output_type": "stream",
     "text": [
      "Nhap 1 so nguyen n:10\n",
      "[1] \"Cac so nguyen to la: 2, 3, 5, 7 Co tong: 17\"\n"
     ]
    }
   ],
   "source": [
    "n=as.integer(readline(prompt=\"Nhap 1 so nguyen n:\"))\n",
    "snt=c()\n",
    "for(i in c(1:n)){\n",
    "    dem=0\n",
    "    for(j in c(1:i)){\n",
    "        if(i%%j==0){\n",
    "            dem=dem+1\n",
    "        }\n",
    "    }\n",
    "    if(dem==2){\n",
    "        snt=c(snt,i)\n",
    "    }\n",
    "}\n",
    "print(paste(\"Cac so nguyen to la:\",toString(snt),\"Co tong:\",sum(snt)))"
   ]
  },
  {
   "cell_type": "markdown",
   "metadata": {},
   "source": [
    "## EXERCISE 5: DOAN SO"
   ]
  },
  {
   "cell_type": "code",
   "execution_count": 7,
   "metadata": {},
   "outputs": [
    {
     "name": "stdout",
     "output_type": "stream",
     "text": [
      "Nhap so n tu 1 den 10:5\n",
      "[1] \"So Ngau Nhien la: 7\"\n"
     ]
    },
    {
     "name": "stderr",
     "output_type": "stream",
     "text": [
      "Your number < Our number\n"
     ]
    },
    {
     "name": "stdout",
     "output_type": "stream",
     "text": [
      "Nhap so n tu 1 den 10:6\n",
      "[1] \"So Ngau Nhien la: 9\"\n"
     ]
    },
    {
     "name": "stderr",
     "output_type": "stream",
     "text": [
      "Your number < Our number\n"
     ]
    },
    {
     "name": "stdout",
     "output_type": "stream",
     "text": [
      "Nhap so n tu 1 den 10:3\n",
      "[1] \"So Ngau Nhien la: 9\"\n"
     ]
    },
    {
     "name": "stderr",
     "output_type": "stream",
     "text": [
      "Your number < Our number\n"
     ]
    },
    {
     "name": "stdout",
     "output_type": "stream",
     "text": [
      "[1] \"Ban da choi 3 lan.KET THUC\"\n"
     ]
    }
   ],
   "source": [
    "n=1\n",
    "win=FALSE\n",
    "thongBao=\"Ban da choi 3 lan.KET THUC\"\n",
    "\n",
    "while(n<=3){\n",
    "    soNhap=as.integer(readline(prompt=\"Nhap so n tu 1 den 10:\"))\n",
    "    soNgauNhien=round(runif(1,1,10),0)\n",
    "    print(paste(\"So Ngau Nhien la:\",soNgauNhien))\n",
    "    if(soNhap==soNgauNhien){\n",
    "        thongBao=\"Your number = Our number => You win\"\n",
    "        break\n",
    "    }else if(soNhap>soNgauNhien){\n",
    "        n=n+1\n",
    "        message(\"Your number > Our number\")\n",
    "    }else{\n",
    "        n=n+1\n",
    "        message(\"Your number < Our number\")\n",
    "    }    \n",
    "}\n",
    "print(thongBao)"
   ]
  },
  {
   "cell_type": "code",
   "execution_count": null,
   "metadata": {},
   "outputs": [],
   "source": []
  }
 ],
 "metadata": {
  "kernelspec": {
   "display_name": "R",
   "language": "R",
   "name": "ir"
  },
  "language_info": {
   "codemirror_mode": "r",
   "file_extension": ".r",
   "mimetype": "text/x-r-source",
   "name": "R",
   "pygments_lexer": "r",
   "version": "3.6.1"
  }
 },
 "nbformat": 4,
 "nbformat_minor": 4
}
